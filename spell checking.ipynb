{
 "cells": [
  {
   "cell_type": "code",
   "execution_count": 5,
   "id": "1ad494f5",
   "metadata": {},
   "outputs": [],
   "source": [
    "import re\n",
    "import pandas as pd\n",
    "from tqdm import tqdm"
   ]
  },
  {
   "cell_type": "markdown",
   "id": "6b87150d",
   "metadata": {},
   "source": [
    "## finding the unique words\n"
   ]
  },
  {
   "cell_type": "code",
   "execution_count": 4,
   "id": "89ba7675",
   "metadata": {},
   "outputs": [
    {
     "name": "stdout",
     "output_type": "stream",
     "text": [
      "32198\n"
     ]
    }
   ],
   "source": [
    "with open('big.txt','r') as fd:\n",
    "    lines = fd.readlines()\n",
    "    words=[]\n",
    "    for line in lines:\n",
    "        words+=re.findall('\\w+',line.lower())\n",
    "vocab= set(words)\n",
    "print(len(vocab))"
   ]
  },
  {
   "cell_type": "markdown",
   "id": "1a393a09",
   "metadata": {},
   "source": [
    "## find the probabilty distribution"
   ]
  },
  {
   "cell_type": "code",
   "execution_count": 6,
   "id": "536a5ebf",
   "metadata": {},
   "outputs": [
    {
     "name": "stderr",
     "output_type": "stream",
     "text": [
      "100%|████████████████████████████████████████████████████████████████████████████| 32198/32198 [14:05<00:00, 38.10it/s]\n"
     ]
    }
   ],
   "source": [
    "word_prob={}\n",
    "for word in tqdm(vocab):\n",
    "    word_prob[word]=float(words.count(word)/len(words))"
   ]
  },
  {
   "cell_type": "markdown",
   "id": "107df721",
   "metadata": {},
   "source": [
    "# Text preprocessing \n",
    "## splitting \n"
   ]
  },
  {
   "cell_type": "code",
   "execution_count": 7,
   "id": "6330bea8",
   "metadata": {},
   "outputs": [],
   "source": [
    "def spliting(word):\n",
    "    parts=[]\n",
    "    for i in range(len(word)+1):\n",
    "        parts+= [(word[:i],word[i:])]\n",
    "    return parts\n"
   ]
  },
  {
   "cell_type": "code",
   "execution_count": 8,
   "id": "87bdf351",
   "metadata": {},
   "outputs": [
    {
     "data": {
      "text/plain": [
       "[('', 'spartan'),\n",
       " ('s', 'partan'),\n",
       " ('sp', 'artan'),\n",
       " ('spa', 'rtan'),\n",
       " ('spar', 'tan'),\n",
       " ('spart', 'an'),\n",
       " ('sparta', 'n'),\n",
       " ('spartan', '')]"
      ]
     },
     "execution_count": 8,
     "metadata": {},
     "output_type": "execute_result"
    }
   ],
   "source": [
    "spliting('spartan')"
   ]
  },
  {
   "cell_type": "markdown",
   "id": "65f70487",
   "metadata": {},
   "source": [
    "## Delete \n"
   ]
  },
  {
   "cell_type": "code",
   "execution_count": 9,
   "id": "d4d019ea",
   "metadata": {},
   "outputs": [
    {
     "data": {
      "text/plain": [
       "['partan',\n",
       " 'sartan',\n",
       " 'sprtan',\n",
       " 'spatan',\n",
       " 'sparan',\n",
       " 'spartn',\n",
       " 'sparta',\n",
       " 'spartan']"
      ]
     },
     "execution_count": 9,
     "metadata": {},
     "output_type": "execute_result"
    }
   ],
   "source": [
    "def delete(word):\n",
    "    output=[]\n",
    "    for l,r in spliting(word):\n",
    "        output.append(l+r[1:])\n",
    "    return output\n",
    "delete('spartan')"
   ]
  },
  {
   "cell_type": "markdown",
   "id": "7a684d2b",
   "metadata": {},
   "source": [
    "## swaping"
   ]
  },
  {
   "cell_type": "code",
   "execution_count": 10,
   "id": "a8db86af",
   "metadata": {},
   "outputs": [
    {
     "data": {
      "text/plain": [
       "['psartan', 'saprtan', 'spratan', 'spatran', 'sparatn', 'spartna']"
      ]
     },
     "execution_count": 10,
     "metadata": {},
     "output_type": "execute_result"
    }
   ],
   "source": [
    "def swap(word):\n",
    "    output=[]\n",
    "    for l,r in spliting(word):\n",
    "        if len(r)>1:\n",
    "            output.append(l+r[1]+r[0]+r[2:])\n",
    "    return output\n",
    "swap('spartan')"
   ]
  },
  {
   "cell_type": "markdown",
   "id": "b81f9bb3",
   "metadata": {},
   "source": [
    "## Replace\n"
   ]
  },
  {
   "cell_type": "code",
   "execution_count": 15,
   "id": "517fc165",
   "metadata": {},
   "outputs": [
    {
     "data": {
      "text/plain": [
       "208"
      ]
     },
     "execution_count": 15,
     "metadata": {},
     "output_type": "execute_result"
    }
   ],
   "source": [
    "def replace(word):\n",
    "    output=[]\n",
    "    characters= 'abcdefghijklmnopqrstuvwxyz'\n",
    "    for l,r in spliting(word):\n",
    "        for char in characters:\n",
    "            output.append(l+char+r[1:])\n",
    "    return output\n",
    "len(replace('spartan'))"
   ]
  },
  {
   "cell_type": "markdown",
   "id": "d87d4eec",
   "metadata": {},
   "source": [
    "## insert\n"
   ]
  },
  {
   "cell_type": "code",
   "execution_count": 17,
   "id": "526efa07",
   "metadata": {},
   "outputs": [
    {
     "data": {
      "text/plain": [
       "208"
      ]
     },
     "execution_count": 17,
     "metadata": {},
     "output_type": "execute_result"
    }
   ],
   "source": [
    "def insert(word):\n",
    "    output=[]\n",
    "    characters= 'abcdefghijklmnopqrstuvwxyz'\n",
    "    for l,r in spliting(word):\n",
    "        for char in characters:\n",
    "            output.append(l+char+r)\n",
    "    return output\n",
    "len(insert('spartan'))"
   ]
  },
  {
   "cell_type": "markdown",
   "id": "8a600378",
   "metadata": {},
   "source": [
    "# Finding the prediction \n",
    "## combining the possible words\n"
   ]
  },
  {
   "cell_type": "code",
   "execution_count": 20,
   "id": "00446842",
   "metadata": {},
   "outputs": [
    {
     "data": {
      "text/plain": [
       "390"
      ]
     },
     "execution_count": 20,
     "metadata": {},
     "output_type": "execute_result"
    }
   ],
   "source": [
    "def edit(word):\n",
    "    return set(insert(word)+delete(word)+replace(word)+swap(word))\n",
    "len(edit('spartan'))"
   ]
  },
  {
   "cell_type": "markdown",
   "id": "1c17d406",
   "metadata": {},
   "source": [
    "## predicted the word\n"
   ]
  },
  {
   "cell_type": "code",
   "execution_count": 26,
   "id": "18fc705a",
   "metadata": {},
   "outputs": [
    {
     "data": {
      "text/plain": [
       "['the', 'he', 'she', 'they', 'them']"
      ]
     },
     "execution_count": 26,
     "metadata": {},
     "output_type": "execute_result"
    }
   ],
   "source": [
    "def spelingcheck(word,count=5):\n",
    "    output=[]\n",
    "    suggestedword=edit(word)\n",
    "    for wrd in suggestedword:\n",
    "        if wrd in word_prob.keys():\n",
    "            output.append([wrd,word_prob[wrd]])\n",
    "    return list(pd.DataFrame(output, columns=['word','prob']).sort_values(by='prob',ascending=False).head(count)['word'].values)\n",
    "spelingcheck('the')"
   ]
  },
  {
   "cell_type": "markdown",
   "id": "466c436b",
   "metadata": {},
   "source": [
    "## predict the word at level two "
   ]
  },
  {
   "cell_type": "code",
   "execution_count": 32,
   "id": "befb1a64",
   "metadata": {},
   "outputs": [],
   "source": [
    "def spelingcheck_2(word,count=5):\n",
    "    output=[]\n",
    "    suggestedword=edit(word) # level one \n",
    "    for e1 in edit(word):\n",
    "        suggestedword += edit(e1) # level 2\n",
    "    suggestedword = list(set(suggestedword))\n",
    "    for wrd in suggestedword:\n",
    "        if wrd in word_prob.keys():\n",
    "            output.append([wrd,word_prob[wrd]])\n",
    "    return list(pd.DataFrame(output, columns=['word','prob']).sort_values(by='prob',ascending=False).head(count)['word'].values)\n"
   ]
  },
  {
   "cell_type": "code",
   "execution_count": null,
   "id": "831f5525",
   "metadata": {},
   "outputs": [],
   "source": []
  }
 ],
 "metadata": {
  "kernelspec": {
   "display_name": "Python 3 (ipykernel)",
   "language": "python",
   "name": "python3"
  },
  "language_info": {
   "codemirror_mode": {
    "name": "ipython",
    "version": 3
   },
   "file_extension": ".py",
   "mimetype": "text/x-python",
   "name": "python",
   "nbconvert_exporter": "python",
   "pygments_lexer": "ipython3",
   "version": "3.10.9"
  }
 },
 "nbformat": 4,
 "nbformat_minor": 5
}
